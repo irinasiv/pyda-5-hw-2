{
 "cells": [
  {
   "cell_type": "code",
   "execution_count": null,
   "metadata": {},
   "outputs": [],
   "source": [
    "Скачайте с сайта https://grouplens.org/datasets/movielens/ датасет любого размера.\n",
    "Определите какому фильму было выставлено больше всего оценок 5.0."
   ]
  },
  {
   "cell_type": "code",
   "execution_count": 2,
   "metadata": {},
   "outputs": [],
   "source": [
    "import pandas as pd"
   ]
  },
  {
   "cell_type": "code",
   "execution_count": 11,
   "metadata": {},
   "outputs": [
    {
     "name": "stdout",
     "output_type": "stream",
     "text": [
      "318\n"
     ]
    }
   ],
   "source": [
    "data_rat = pd.read_csv('ratings.csv')\n",
    "filtered_data = data_rat[ (data_rat['rating']==5.0)]\n",
    "filtered_data.head()\n",
    "best = filtered_data['movieId'].value_counts().head(10)\n",
    "k = best.index[0]\n",
    "print(k)"
   ]
  },
  {
   "cell_type": "code",
   "execution_count": 12,
   "metadata": {},
   "outputs": [
    {
     "data": {
      "text/plain": [
       "277    Shawshank Redemption, The (1994)\n",
       "Name: title, dtype: object"
      ]
     },
     "execution_count": 12,
     "metadata": {},
     "output_type": "execute_result"
    }
   ],
   "source": [
    "data_mov = pd.read_csv('movies.csv')\n",
    "filtered_data_mov = data_mov[(data_mov['movieId']==k)]\n",
    "filtered_data_mov['title'].head(1)"
   ]
  },
  {
   "cell_type": "code",
   "execution_count": null,
   "metadata": {},
   "outputs": [],
   "source": [
    "По данным файла power.csv посчитайте суммарное потребление стран Прибалтики (Латвия, Литва и Эстония) \n",
    "категорий 4, 12 и 21 за период с 2005 по 2010 года.\n",
    "Не учитывайте в расчетах отрицательные значения quantity."
   ]
  },
  {
   "cell_type": "code",
   "execution_count": 7,
   "metadata": {},
   "outputs": [
    {
     "data": {
      "text/html": [
       "<div>\n",
       "<style scoped>\n",
       "    .dataframe tbody tr th:only-of-type {\n",
       "        vertical-align: middle;\n",
       "    }\n",
       "\n",
       "    .dataframe tbody tr th {\n",
       "        vertical-align: top;\n",
       "    }\n",
       "\n",
       "    .dataframe thead th {\n",
       "        text-align: right;\n",
       "    }\n",
       "</style>\n",
       "<table border=\"1\" class=\"dataframe\">\n",
       "  <thead>\n",
       "    <tr style=\"text-align: right;\">\n",
       "      <th></th>\n",
       "      <th>country</th>\n",
       "      <th>year</th>\n",
       "      <th>quantity</th>\n",
       "      <th>category</th>\n",
       "    </tr>\n",
       "  </thead>\n",
       "  <tbody>\n",
       "    <tr>\n",
       "      <td>0</td>\n",
       "      <td>Austria</td>\n",
       "      <td>1996</td>\n",
       "      <td>5.0</td>\n",
       "      <td>1</td>\n",
       "    </tr>\n",
       "    <tr>\n",
       "      <td>1</td>\n",
       "      <td>Austria</td>\n",
       "      <td>1995</td>\n",
       "      <td>17.0</td>\n",
       "      <td>1</td>\n",
       "    </tr>\n",
       "    <tr>\n",
       "      <td>2</td>\n",
       "      <td>Belgium</td>\n",
       "      <td>2014</td>\n",
       "      <td>0.0</td>\n",
       "      <td>1</td>\n",
       "    </tr>\n",
       "    <tr>\n",
       "      <td>3</td>\n",
       "      <td>Belgium</td>\n",
       "      <td>2013</td>\n",
       "      <td>0.0</td>\n",
       "      <td>1</td>\n",
       "    </tr>\n",
       "    <tr>\n",
       "      <td>4</td>\n",
       "      <td>Belgium</td>\n",
       "      <td>2012</td>\n",
       "      <td>35.0</td>\n",
       "      <td>1</td>\n",
       "    </tr>\n",
       "  </tbody>\n",
       "</table>\n",
       "</div>"
      ],
      "text/plain": [
       "   country  year  quantity  category\n",
       "0  Austria  1996       5.0         1\n",
       "1  Austria  1995      17.0         1\n",
       "2  Belgium  2014       0.0         1\n",
       "3  Belgium  2013       0.0         1\n",
       "4  Belgium  2012      35.0         1"
      ]
     },
     "execution_count": 7,
     "metadata": {},
     "output_type": "execute_result"
    }
   ],
   "source": [
    "power = pd.read_csv('power.csv')\n",
    "power.head()"
   ]
  },
  {
   "cell_type": "code",
   "execution_count": 9,
   "metadata": {},
   "outputs": [
    {
     "name": "stdout",
     "output_type": "stream",
     "text": [
      "240580.0\n"
     ]
    }
   ],
   "source": [
    "filtered_c = power[(power['country']== 'Estonia') | (power['country']== 'Latvia') | (power['country']=='Lithuania')]\n",
    "filtered_cat = filtered_c[(filtered_c['category'] == 4) | (filtered_c['category'] == 12) |(filtered_c['category'] == 21)]\n",
    "filt_power = filtered_cat[(filtered_cat['year'] >= 2005) & (filtered_cat['year'] <= 2010) & (filtered_cat['quantity'] >= 0)]\n",
    "spend_power = filt_power['quantity'].sum()\n",
    "print(spend_power )"
   ]
  },
  {
   "cell_type": "code",
   "execution_count": null,
   "metadata": {},
   "outputs": [],
   "source": [
    "Выберите страницу любого сайта с табличными данными. Импортируйте таблицы в pandas dataframe.\n",
    "Примеры страниц (необязательно брать именно эти):\n",
    "https://fortrader.org/quotes\n",
    "https://www.finanz.ru/valyuty/v-realnom-vremeni"
   ]
  },
  {
   "cell_type": "code",
   "execution_count": 20,
   "metadata": {},
   "outputs": [
    {
     "data": {
      "text/plain": [
       "[    Unnamed: 0              Рубль  Предложение  Спрос  Предыдущее закрытие  \\\n",
       " 0          NaN            GBP/RUB       842892      -               832679   \n",
       " 1          NaN            EUR/RUB       706520      -               695550   \n",
       " 2          NaN            USD/RUB       653335      -               643045   \n",
       " 3          NaN            JPY/RUB        05867      -                05768   \n",
       " 4          NaN            CNY/RUB        92907      -                91508   \n",
       " 5          NaN            CHF/RUB       665748      -               656497   \n",
       " 6          NaN               Евро  Предложение  Спрос  Предыдущее закрытие   \n",
       " 7          NaN            EUR/USD        10816      -                10829   \n",
       " 8          NaN            EUR/GBP        08383      -                08364   \n",
       " 9          NaN            EUR/JPY      1204200      -              1207400   \n",
       " 10         NaN            EUR/CHF        10611      -                10609   \n",
       " 11         NaN         Доллар США  Предложение  Спрос  Предыдущее закрытие   \n",
       " 12         NaN            USD/EUR        09247      -                09235   \n",
       " 13         NaN            USD/GBP        07751      -                07723   \n",
       " 14         NaN            USD/JPY      1113370      -              1114800   \n",
       " 15         NaN            USD/CHF        09811      -                09795   \n",
       " 16         NaN      Японская иена  Предложение  Спрос  Предыдущее закрытие   \n",
       " 17         NaN    JPY/EUR (100:1)        08300      -                08300   \n",
       " 18         NaN            JPY/GBP        00070      -                00069   \n",
       " 19         NaN            JPY/USD        00090      -                00090   \n",
       " 20         NaN    JPY/CHF (100:1)        08800      -                08800   \n",
       " 21         NaN    Фунт стерлингов  Предложение  Спрос  Предыдущее закрытие   \n",
       " 22         NaN            GBP/USD        12902      -                12949   \n",
       " 23         NaN            GBP/JPY      1436680      -              1443619   \n",
       " 24         NaN            GBP/EUR        11927      -                11955   \n",
       " 25         NaN            GBP/CHF        12658      -                12682   \n",
       " 26         NaN  Швейцарский франк  Предложение  Спрос  Предыдущее закрытие   \n",
       " 27         NaN            GBP/CHF        12658      -                12682   \n",
       " 28         NaN            EUR/CHF        10611      -                10609   \n",
       " 29         NaN    JPY/CHF (100:1)        08800      -                08800   \n",
       " 30         NaN            USD/CHF        09811      -                09795   \n",
       " 31         NaN  Украинская гривна  Предложение  Спрос  Предыдущее закрытие   \n",
       " 32         NaN            EUR/UAH       264710      -               265046   \n",
       " 33         NaN            USD/UAH       244728      -               244767   \n",
       " 34         NaN            CHF/UAH       249418      -               249888   \n",
       " 35         NaN            GBP/UAH       315797      -               316950   \n",
       " \n",
       "           %  Абсолютное значение     Время  \n",
       " 0    1,23 %                10213  13:47:00  \n",
       " 1    1,58 %                10970  13:47:00  \n",
       " 2    1,60 %                10290  13:47:00  \n",
       " 3    1,72 %                00099  13:47:00  \n",
       " 4    1,53 %                01399  13:47:00  \n",
       " 5    1,41 %                09251  13:47:00  \n",
       " 6         %  Абсолютное значение     Время  \n",
       " 7   -0,12 %               -00013  13:47:00  \n",
       " 8    0,22 %                00019  13:47:00  \n",
       " 9   -0,27 %               -03200  13:47:00  \n",
       " 10   0,01 %                00002  13:47:00  \n",
       " 11        %  Абсолютное значение     Время  \n",
       " 12   0,13 %                00012  13:47:00  \n",
       " 13   0,36 %                00028  13:47:00  \n",
       " 14  -0,13 %               -01430  13:47:00  \n",
       " 15   0,16 %                00016  13:47:00  \n",
       " 16        %  Абсолютное значение     Время  \n",
       " 17   0,24 %                00000  13:47:00  \n",
       " 18   0,48 %                00000  13:47:00  \n",
       " 19   0,13 %                00000  13:47:00  \n",
       " 20   0,28 %                00000  13:47:00  \n",
       " 21        %  Абсолютное значение     Время  \n",
       " 22  -0,36 %               -00046  13:47:00  \n",
       " 23  -0,48 %               -06940  13:47:00  \n",
       " 24  -0,23 %               -00028  13:47:00  \n",
       " 25  -0,19 %               -00024  13:47:00  \n",
       " 26        %  Абсолютное значение     Время  \n",
       " 27  -0,19 %               -00024  13:47:00  \n",
       " 28   0,01 %                00002  13:47:00  \n",
       " 29   0,28 %                00000  13:47:00  \n",
       " 30   0,16 %                00016  13:47:00  \n",
       " 31        %  Абсолютное значение     Время  \n",
       " 32  -0,13 %               -00336  13:47:00  \n",
       " 33  -0,02 %               -00039  13:45:00  \n",
       " 34  -0,19 %               -00470  13:47:00  \n",
       " 35  -0,36 %               -01152  13:47:00  ]"
      ]
     },
     "execution_count": 20,
     "metadata": {},
     "output_type": "execute_result"
    }
   ],
   "source": [
    "page_url = 'https://www.finanz.ru/valyuty/v-realnom-vremeni'\n",
    "df = pd.read_html(page_url, attrs = {'class': \"quote_list\"}, encoding='utf-8')\n",
    "df[:5]"
   ]
  },
  {
   "cell_type": "code",
   "execution_count": null,
   "metadata": {},
   "outputs": [],
   "source": []
  }
 ],
 "metadata": {
  "kernelspec": {
   "display_name": "Python 3",
   "language": "python",
   "name": "python3"
  },
  "language_info": {
   "codemirror_mode": {
    "name": "ipython",
    "version": 3
   },
   "file_extension": ".py",
   "mimetype": "text/x-python",
   "name": "python",
   "nbconvert_exporter": "python",
   "pygments_lexer": "ipython3",
   "version": "3.7.4"
  }
 },
 "nbformat": 4,
 "nbformat_minor": 2
}
