{
 "cells": [
  {
   "cell_type": "markdown",
   "metadata": {},
   "source": [
    "# Домашнее задание к лекции \"Регулярные выражения\"\n",
    "Для зачета необходимо выполнить 4 задания.  \n",
    "Для зачета с отличием – все."
   ]
  },
  {
   "cell_type": "markdown",
   "metadata": {},
   "source": [
    "## Задание 1"
   ]
  },
  {
   "cell_type": "markdown",
   "metadata": {},
   "source": [
    "Напишите функцию, которая принимает на вход строку и проверяет является ли она валидным транспортным номером. Если да, то функция должна возвращать отдельно номер и регион."
   ]
  },
  {
   "cell_type": "code",
   "execution_count": 3,
   "metadata": {},
   "outputs": [],
   "source": [
    "import re"
   ]
  },
  {
   "cell_type": "code",
   "execution_count": 26,
   "metadata": {},
   "outputs": [
    {
     "name": "stdout",
     "output_type": "stream",
     "text": [
      "Введите номерh254hh63\n",
      "['254', '63']\n"
     ]
    }
   ],
   "source": [
    "auto_number = input('Введите номер')\n",
    "def numb_val(auto_number):\n",
    "    result = '[АВЕКМНОРСТУХABEKMHOPCTYX]{1}\\d{3}[АВЕКМНОРСТУХABEKMHOPCTYX]{2}\\d{2,3}'\n",
    "    if re.match(result,auto_number,re.I):\n",
    "        print(re.findall('(\\d{2,3})',auto_number))\n",
    "    else:\n",
    "        print('Number {} is invalid'.format(auto_number))\n",
    "        return\n",
    "numb_val(auto_number)"
   ]
  },
  {
   "cell_type": "markdown",
   "metadata": {},
   "source": [
    "## Задание 2"
   ]
  },
  {
   "cell_type": "markdown",
   "metadata": {},
   "source": [
    "Напишите функцию, которая проверяет e-mail адрес на валидность по стандарту RFC822: http://www.w3.org/Protocols/rfc822/. Для этого постарайтесь написать (в крайнем случае найти) самый полный шаблон для проверки e-mail адресов через регулярное выражение. Разберитесь и напишите примеры, какие ваш шаблон может не охватить."
   ]
  },
  {
   "cell_type": "code",
   "execution_count": 2,
   "metadata": {},
   "outputs": [
    {
     "name": "stdout",
     "output_type": "stream",
     "text": [
      "Введите emailjdg dssdf@ya.ru\n",
      "Invalid address\n"
     ]
    }
   ],
   "source": [
    "email = input('Введите email')\n",
    "def val_adr(email):\n",
    "    result = r'\\^[\\w\\d\\S\\!\\#\\$\\%\\&\\'\\*\\+\\-\\/\\=\\?\\^\\_\\`\\{\\|\\}\\~\\.]+@[\\w]+\\.[a-z]{2,4}'\n",
    "    if re.findall(result,email):\n",
    "        print('Address is correct')\n",
    "    else:\n",
    "        print ('Invalid address')\n",
    "\n",
    "val_adr(email)\n",
    "#пропустит те случаи, когда точка в начале или в конце адреса, или есть 2 точки"
   ]
  },
  {
   "cell_type": "markdown",
   "metadata": {},
   "source": [
    "## Задание 3\n",
    "Напишите функцию, которая будет удалять все последовательные повторы слов из заданной строки."
   ]
  },
  {
   "cell_type": "code",
   "execution_count": 10,
   "metadata": {},
   "outputs": [
    {
     "name": "stdout",
     "output_type": "stream",
     "text": [
      "It is intended that this standard facilitate the acquisition of such information by programs.\n"
     ]
    }
   ],
   "source": [
    "test = 'It is is intended that that this standard facilitate the the acquisition of such such information by programs.'\n",
    "\n",
    "def del_dubl(test):\n",
    "    print(re.sub(r'\\b(\\w+)\\s\\1',r'\\1',test))\n",
    "\n",
    "del_dubl(test)    "
   ]
  },
  {
   "cell_type": "markdown",
   "metadata": {},
   "source": [
    "## Задание 4\n",
    "Напишите функцию, которая будет проверять номер сотового телефона на валидность, если он валиден, то переводить его в формат:   \n",
    "+7(xxx)-xxx-xx-xx  \n",
    "Постарайтесь предусмотреть как можно больше адекватных форматов изначального ввода номера.\n",
    "Примеры правильных и неправильных форматов:\n",
    "- +7 955 555-55-55;\n",
    "- 955555555;\n",
    "- 8(955)555-55-55;\n",
    "- +7 955 555 55 55;\n",
    "- 7(955) 555-55-55;\n",
    "- +7 955+555+55+55."
   ]
  },
  {
   "cell_type": "code",
   "execution_count": 15,
   "metadata": {},
   "outputs": [
    {
     "name": "stdout",
     "output_type": "stream",
     "text": [
      "Введите номер телефона892435475993999\n",
      "Invalid number\n"
     ]
    }
   ],
   "source": [
    "number = input('Введите номер телефона')\n",
    "\n",
    "def format_number(number):\n",
    "    number_reg = re.findall('[\\d\\s\\+\\-\\(\\)]{10,18}',number)\n",
    "    if number_reg:\n",
    "        only = re.findall('\\d+',number)\n",
    "        s = 0\n",
    "        for k in only:\n",
    "            s += len(k)\n",
    "        if s != 11 & s != 10:\n",
    "            print('Invalid number')\n",
    "            return\n",
    "        if s == 11 & (only[0][0] != 7) & (only[0][0] != 8):\n",
    "            print('Invalid number')\n",
    "            return\n",
    "        if len(only)== 5:\n",
    "            print('+7('+only[1]+')-'+only[2]+'-'+only[3]+'-'+only[4])\n",
    "            return\n",
    "        if len(only)== 4:\n",
    "            print('+7('+only[0]+')-'+only[1]+'-'+only[2]+'-'+only[3])\n",
    "            return\n",
    "        if len(only)== 1:\n",
    "            if len(only[0]) == 11:\n",
    "                 print('+7('+only[0][1:4]+')-'+only[0][4:7]+'-'+only[0][7:9]+'-'+only[0][9:11])\n",
    "            elif len(only[0]) == 10:\n",
    "                 print('+7('+only[0][0:3]+')-'+only[0][3:6]+'-'+only[0][6:8]+'-'+only[0][8:10])\n",
    "    else:\n",
    "        print('Invalid number')\n",
    "    \n",
    "format_number(number)"
   ]
  },
  {
   "cell_type": "code",
   "execution_count": 3,
   "metadata": {},
   "outputs": [],
   "source": [
    "numb = re.findall('^((\\+?7|8)[\\-] ?)?((\\(\\d{3}\\))|(\\d{3}))?([ \\-])?(\\d{3}[\\- ]?\\d{2}[\\- ]?\\d{2})', number)\n"
   ]
  },
  {
   "cell_type": "code",
   "execution_count": null,
   "metadata": {},
   "outputs": [],
   "source": []
  }
 ],
 "metadata": {
  "kernelspec": {
   "display_name": "Python 3",
   "language": "python",
   "name": "python3"
  },
  "language_info": {
   "codemirror_mode": {
    "name": "ipython",
    "version": 3
   },
   "file_extension": ".py",
   "mimetype": "text/x-python",
   "name": "python",
   "nbconvert_exporter": "python",
   "pygments_lexer": "ipython3",
   "version": "3.7.4"
  }
 },
 "nbformat": 4,
 "nbformat_minor": 2
}
