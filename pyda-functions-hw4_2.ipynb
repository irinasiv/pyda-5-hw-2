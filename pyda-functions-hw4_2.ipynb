{
 "cells": [
  {
   "cell_type": "markdown",
   "metadata": {},
   "source": [
    "## Задание 1"
   ]
  },
  {
   "cell_type": "markdown",
   "metadata": {},
   "source": [
    "Дан список вида:"
   ]
  },
  {
   "cell_type": "code",
   "execution_count": 2,
   "metadata": {},
   "outputs": [],
   "source": [
    "data = [\n",
    "    [13, 25, 23, 34],\n",
    "    [45, 32, 44, 47],\n",
    "    [12, 33, 23, 95],\n",
    "    [13, 53, 34, 35]\n",
    "]"
   ]
  },
  {
   "cell_type": "code",
   "execution_count": 13,
   "metadata": {},
   "outputs": [
    {
     "name": "stdout",
     "output_type": "stream",
     "text": [
      "103\n"
     ]
    }
   ],
   "source": [
    "def diagsum(data):\n",
    "    sum_diaganal = 0\n",
    "    for x in range(0,len(data)):\n",
    "        sum_diaganal += data[x][x]\n",
    "    return sum_diaganal\n",
    "print(diagsum(data))"
   ]
  },
  {
   "cell_type": "markdown",
   "metadata": {},
   "source": [
    "Напишите функцию, которая возвращает сумму элементов на диагонали. Т. е. 13+32+23+35.  \n",
    "Список может быть любой длины, но всегда является \"квадратным\" (количество элементов во вложенных списках равно их количеству)."
   ]
  },
  {
   "cell_type": "markdown",
   "metadata": {},
   "source": [
    "## Задание 2"
   ]
  },
  {
   "cell_type": "code",
   "execution_count": 15,
   "metadata": {},
   "outputs": [
    {
     "name": "stdout",
     "output_type": "stream",
     "text": [
      "8\n"
     ]
    }
   ],
   "source": [
    "def fib_num(n):\n",
    "    if n == 0:\n",
    "        return(0)\n",
    "    if n == 1:\n",
    "        return(1)\n",
    "    return fib_num(n-1)+fib_num(n-2)"
   ]
  },
  {
   "cell_type": "code",
   "execution_count": 17,
   "metadata": {},
   "outputs": [
    {
     "name": "stdout",
     "output_type": "stream",
     "text": [
      "20\n"
     ]
    }
   ],
   "source": [
    "def fib_sum(n):\n",
    "    return fib_num(n+2)-1\n",
    "print(fib_sum(6))"
   ]
  },
  {
   "cell_type": "markdown",
   "metadata": {},
   "source": [
    "Напишите функцию, возвращающую сумму первых n чисел Фибоначчи (для этого вам может понадобится ознакомиться с рекурсией)."
   ]
  },
  {
   "cell_type": "markdown",
   "metadata": {},
   "source": [
    "## Задание 3\n"
   ]
  },
  {
   "cell_type": "markdown",
   "metadata": {},
   "source": [
    "Напишите функцию, преобразующую произвольный список вида ['2018-01-01', 'yandex', 'cpc', 100] (он может быть любой длины) в словарь {'2018-01-01': {'yandex': {'cpc': 100}}}"
   ]
  },
  {
   "cell_type": "code",
   "execution_count": 29,
   "metadata": {},
   "outputs": [
    {
     "name": "stdout",
     "output_type": "stream",
     "text": [
      "{'2018-01-01': {'yandex': {'cpc': 100}}}\n"
     ]
    }
   ],
   "source": [
    "my_lst = ['2018-01-01', 'yandex', 'cpc', 100]\n",
    "def list_dict(my_lst):\n",
    "    my_dict = my_lst[len(my_lst)-1]\n",
    "    x = len(my_lst)-1\n",
    "    while x > 0:\n",
    "            x -= 1\n",
    "            my_dict = {my_lst[x]:my_dict}\n",
    "    return my_dict\n",
    "print(list_dict(my_lst))"
   ]
  },
  {
   "cell_type": "markdown",
   "metadata": {},
   "source": [
    "## Задание 4"
   ]
  },
  {
   "cell_type": "markdown",
   "metadata": {},
   "source": [
    "Вы работаете секретарем и вам постоянно приходят различные документы. Вы должны быть очень внимательны, чтобы не потерять ни один документ. Каталог документов хранится в следующем виде:"
   ]
  },
  {
   "cell_type": "code",
   "execution_count": 37,
   "metadata": {},
   "outputs": [],
   "source": [
    "documents = [\n",
    "    {'type': 'passport', 'number': '2207 876234', 'name': 'Василий Гупкин'},\n",
    "    {'type': 'invoice', 'number': '11-2', 'name': 'Геннадий Покемонов'},\n",
    "    {'type': 'insurance', 'number': '10006', 'name': 'Аристарх Павлов'}\n",
    "]"
   ]
  },
  {
   "cell_type": "markdown",
   "metadata": {},
   "source": [
    "Перечень полок, на которых находятся документы хранится в следующем виде:"
   ]
  },
  {
   "cell_type": "code",
   "execution_count": 38,
   "metadata": {},
   "outputs": [],
   "source": [
    "directories = {\n",
    "    '1': ['2207 876234', '11-2', '5455 028765'],\n",
    "    '2': ['10006', '5400 028765', '5455 002299'],\n",
    "    '3': []\n",
    "}"
   ]
  },
  {
   "cell_type": "code",
   "execution_count": 23,
   "metadata": {},
   "outputs": [],
   "source": [
    "def find_people(numb):\n",
    "    for doc in documents:\n",
    "        if doc['number'] == numb:\n",
    "            return doc['name']\n",
    "    return 'Нет имени'"
   ]
  },
  {
   "cell_type": "code",
   "execution_count": 24,
   "metadata": {},
   "outputs": [],
   "source": [
    "def find_shelf(numb):\n",
    "    for key in directories.keys():\n",
    "        for val in directories[key]:\n",
    "            if val == numb:\n",
    "                return key\n",
    "    return 'Нет документа'"
   ]
  },
  {
   "cell_type": "code",
   "execution_count": 25,
   "metadata": {},
   "outputs": [],
   "source": [
    "def list_doc():\n",
    "    for doc in documents:\n",
    "        print('**',doc['type'], '\"',doc['number'],'\"','\"',doc['name'],'\"','**')"
   ]
  },
  {
   "cell_type": "code",
   "execution_count": 26,
   "metadata": {},
   "outputs": [],
   "source": [
    "def add_shelf(new_shelf):\n",
    "    directories.setdefault(new_shelf,[])\n",
    "    #return directories"
   ]
  },
  {
   "cell_type": "code",
   "execution_count": 42,
   "metadata": {},
   "outputs": [],
   "source": [
    "def del_in_doc(numb):\n",
    "    for doc in documents:\n",
    "        if doc['number'] == numb:\n",
    "            documents.remove(doc)\n",
    "            return \n",
    "    print ('Нет документа1')\n",
    "def del_in_dict(numb):    \n",
    "    del_key = ''\n",
    "    test = False\n",
    "    for key in directories.keys():\n",
    "        for val in directories[key]:\n",
    "            if val == numb:\n",
    "                test = True\n",
    "                del_key = key\n",
    "        if test:\n",
    "            directories[key].remove(numb)\n",
    "            test = False\n",
    "    if del_key == '':\n",
    "        print('Нет документа2')\n",
    "    return \n",
    "def del_numb(numb):\n",
    "    del_in_doc(numb)\n",
    "    del_in_dict(numb)"
   ]
  },
  {
   "cell_type": "code",
   "execution_count": 43,
   "metadata": {},
   "outputs": [],
   "source": [
    "def move_doc(numb,new_shelf):\n",
    "    val_count = 0\n",
    "    for val in directories.values():\n",
    "        val_count += val.count(numb)\n",
    "    for val in directories.values():\n",
    "        if val.count(numb)>=1:\n",
    "            val.remove(numb)\n",
    "    if val_count == 0:\n",
    "        print('Нет документа')\n",
    "    else:    \n",
    "        for key in directories.keys():\n",
    "            if key == new_shelf:\n",
    "                directories[key].append(numb)\n",
    "    return"
   ]
  },
  {
   "cell_type": "code",
   "execution_count": 44,
   "metadata": {},
   "outputs": [],
   "source": [
    "def add_doc(numb,new_shelf,new_name,new_type):\n",
    "    new_doc = {'type':new_type,'number':numb,'new_name':new_name}\n",
    "    documents.append(new_doc)\n",
    "    test = False\n",
    "    for key in directories.keys():\n",
    "        if key == new_shelf:\n",
    "            directories[key].append(numb)\n",
    "            test = True\n",
    "    if ~test:\n",
    "        directories.setdefault(new_shelf,[numb])\n",
    "    return"
   ]
  },
  {
   "cell_type": "code",
   "execution_count": 45,
   "metadata": {},
   "outputs": [],
   "source": [
    "def get_act(user_input):\n",
    "    if user_input == 'p':\n",
    "        numb = input('Номер документа')\n",
    "        print(find_people(numb))\n",
    "    elif user_input == 's':\n",
    "        numb = input('Номер документа')\n",
    "        print(find_shelf(numb))\n",
    "    elif user_input == 'l':\n",
    "        list_doc()\n",
    "    elif user_input == 'as':\n",
    "        new_shelf = input('Номер новой полки')\n",
    "        add_shelf(new_shelf)\n",
    "        #print(directories)\n",
    "    elif user_input == 'd':\n",
    "        numb = input('Номер документа')\n",
    "        del_numb(numb)\n",
    "    elif user_input == 'm':\n",
    "        numb = input('Номер документа')\n",
    "        new_shelf = input('Номер новой полки')\n",
    "        move_doc(numb,new_shelf)\n",
    "    elif user_input == 'a':\n",
    "        numb = input('Номер документа')\n",
    "        new_shelf = input('Номер новой полки')\n",
    "        new_name = input('Имя')\n",
    "        new_type = input('Тип')\n",
    "        add_doc(numb,new_shelf,new_name,new_type)\n",
    "    return"
   ]
  },
  {
   "cell_type": "code",
   "execution_count": 48,
   "metadata": {},
   "outputs": [
    {
     "name": "stdout",
     "output_type": "stream",
     "text": [
      "Введите командуa\n",
      "Номер документа25366\n",
      "Номер новой полки36\n",
      "Имя546\n",
      "Тип65\n",
      "{'1': ['2207 876234', '11-2', '5455 028765'], '2': ['10006', '5400 028765', '5455 002299', '1452'], '3': [], '24': ['4525', '4525'], '36': ['25366']}\n",
      "[{'type': 'passport', 'number': '2207 876234', 'name': 'Василий Гупкин'}, {'type': 'invoice', 'number': '11-2', 'name': 'Геннадий Покемонов'}, {'type': 'insurance', 'number': '10006', 'name': 'Аристарх Павлов'}, {'type': 'ddd', 'number': '4525', 'new_name': 'cdcd'}, {'type': 'ddd', 'number': '4525', 'new_name': 'cdcd'}, {'type': '65', 'number': '1452', 'new_name': '36'}, {'type': '65', 'number': '25366', 'new_name': '546'}]\n"
     ]
    }
   ],
   "source": [
    "user_input = input('Введите команду')\n",
    "get_act(user_input)\n",
    "print(directories)\n",
    "print(documents)"
   ]
  },
  {
   "cell_type": "markdown",
   "metadata": {},
   "source": [
    "Необходимо реализовать пользовательские команды (внимание! это не название функций, которые должны быть выразительными, а команды, которые вводит пользователь, чтобы получить необходимый результат):\n",
    "  \n",
    "- p – people – команда, которая спросит номер документа и выведет имя человека, которому он принадлежит;  \n",
    "- s – shelf – команда, которая спросит номер документа и выведет номер полки, на которой он находится  \n",
    "Правильно обработайте ситуацию, когда пользователь будет вводить несуществующий документ.\n",
    "- l – list – команда, которая выведет список всех документов в формате   \n",
    "**passport \"2207 876234\" \"Василий Гупкин\"**  \n",
    "- as – add shelf – команда, которая спросит номер новой полки и добавит ее в перечень\n",
    "- d – delete – команда, которая спросит номер документа и удалит его из каталога и из перечня полок. Предусмотрите сценарий, когда пользователь вводит несуществующий документ;  \n",
    "- m – move – команда, которая спросит номер документа и целевую полку и переместит его с текущей полки на целевую. Корректно обработайте кейсы, когда пользователь пытается переместить несуществующий документ или переместить документ на несуществующую полку;  \n",
    "- a – add – команда, которая добавит новый документ в каталог и в перечень полок, спросив его номер, тип, имя владельца и номер полки, на котором он будет храниться."
   ]
  },
  {
   "cell_type": "code",
   "execution_count": null,
   "metadata": {},
   "outputs": [],
   "source": []
  }
 ],
 "metadata": {
  "kernelspec": {
   "display_name": "Python 3",
   "language": "python",
   "name": "python3"
  },
  "language_info": {
   "codemirror_mode": {
    "name": "ipython",
    "version": 3
   },
   "file_extension": ".py",
   "mimetype": "text/x-python",
   "name": "python",
   "nbconvert_exporter": "python",
   "pygments_lexer": "ipython3",
   "version": "3.7.4"
  }
 },
 "nbformat": 4,
 "nbformat_minor": 2
}
